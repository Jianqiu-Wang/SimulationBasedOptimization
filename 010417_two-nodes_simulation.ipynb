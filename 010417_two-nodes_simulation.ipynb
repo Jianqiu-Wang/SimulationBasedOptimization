{
 "cells": [
  {
   "cell_type": "code",
   "execution_count": 56,
   "metadata": {
    "collapsed": true
   },
   "outputs": [],
   "source": [
    "''' Two-nodes network simulation\n",
    "    Goal: Determine the optimal base-stock levels setting for the entire system\n",
    "''' \n",
    "import numpy as np"
   ]
  },
  {
   "cell_type": "code",
   "execution_count": 57,
   "metadata": {
    "collapsed": false
   },
   "outputs": [],
   "source": [
    "''' Pass parameters to simulator '''\n",
    "''' Inventory parameters'''\n",
    "BS = [3000, 800]  # Base stock levels （Initial value）\n",
    "cb = 1            # Unit backorder cost\n",
    "ch = 1            # Unit inventory holding cost\n",
    "                  # Reorder period lengths ?? default: 1\n",
    "Nd = 200          # Simulation horizon\n",
    "Nw = 100          # Warm-up horizon      ?? Necessary?\n",
    "''' Probability parameters'''\n",
    "mean_node2 = 150\n",
    "std_node2 = 30    # Normal dist of demands for node 2\n",
    "low_node1 = 2 \n",
    "high_node1 = 4    # Unif dist of delievry preparation time for node 1"
   ]
  },
  {
   "cell_type": "code",
   "execution_count": 58,
   "metadata": {
    "collapsed": false
   },
   "outputs": [],
   "source": [
    "''' Inventory system simulation'''\n",
    "''' Initialization'''\n",
    "t = 0\n",
    "INVP = [0]        # Inventory position at beginning of day 0\n",
    "INVO = 0        # On-order inventory of node 1 at the beginning of day\n",
    "# No incoming flow, INVO is always 0\n",
    "INVB = [0]        # Backorder amount of node 1 at the beginning of day t\n",
    "INVH = [0]        # on-hand inventory of node 1 at the beginning of day t\n",
    "OD = [0]          # order amount of node 1 at the beginning of day t\n",
    "CO = [0]          # customer node order\n",
    "ROD_21 = [0]      # order received by node 2 from node 1 on day t\n",
    "state = np.array([0])       # number of days left before order is delivered on day t\n",
    "''' Simulation starts'''\n",
    "#while ( t < Nd + Nw ):\n",
    "while t < 1:\n",
    "    ''' Inventory operations'''\n",
    "    ''' 1. Place orders'''\n",
    "    ''' 1.1 Check inventory position INVP\n",
    "        if the current period is the starting period of a reviewing cycle:\n",
    "            generate order OD to desired value\n",
    "        Since the reorder period is 1, need to check daily\n",
    "    '''\n",
    "    INVP.append( INVH[t]+INVO-INVB[t] )\n",
    "    OD.append(BS[0]-INVP_1[t])\n",
    "    ''' 1.2 Generate customer node order'''\n",
    "    CO.append(np.random.normal(mean_node2,std_node2)) # random number of order of node 2\n",
    "    for idx,item in enumerate(state):\n",
    "        if item == 1:\n",
    "            INVH[t] = INVH[t] - OD[idx] # order on day idx will be delievered to node 2\n",
    "        \n",
    "    state = np.append(state, np.random.randint(low_node1,high=high_node1))\n",
    "    ''' 2. Clear shipement task'''\n",
    "    ''' 2.1 Check if all prepared orders are delivered'''\n",
    "   \n",
    "            \n",
    "    ''' 3. Clear backorders'''\n",
    "    \n",
    "    ''' 4. Process orders in queues'''\n",
    "    \n",
    "    ''' 5. Schedule shipments'''\n",
    "    \n",
    "    ''' 6. Update inventory records'''\n",
    "    state = state - 1\n",
    "    ''' 7. Update t'''\n",
    "    t = t + 1"
   ]
  },
  {
   "cell_type": "code",
   "execution_count": 59,
   "metadata": {
    "collapsed": false
   },
   "outputs": [
    {
     "data": {
      "text/plain": [
       "array([-1,  1])"
      ]
     },
     "execution_count": 59,
     "metadata": {},
     "output_type": "execute_result"
    }
   ],
   "source": [
    "state"
   ]
  },
  {
   "cell_type": "code",
   "execution_count": null,
   "metadata": {
    "collapsed": true
   },
   "outputs": [],
   "source": []
  }
 ],
 "metadata": {
  "kernelspec": {
   "display_name": "Python 3",
   "language": "python",
   "name": "python3"
  },
  "language_info": {
   "codemirror_mode": {
    "name": "ipython",
    "version": 3
   },
   "file_extension": ".py",
   "mimetype": "text/x-python",
   "name": "python",
   "nbconvert_exporter": "python",
   "pygments_lexer": "ipython3",
   "version": "3.5.1"
  }
 },
 "nbformat": 4,
 "nbformat_minor": 0
}
